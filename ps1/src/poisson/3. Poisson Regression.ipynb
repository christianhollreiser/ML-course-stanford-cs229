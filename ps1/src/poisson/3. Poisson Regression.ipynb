{
 "cells": [
  {
   "cell_type": "code",
   "execution_count": 59,
   "metadata": {
    "collapsed": true
   },
   "outputs": [],
   "source": [
    "import numpy as np\n",
    "import util\n",
    "import matplotlib.pyplot as plt"
   ]
  },
  {
   "cell_type": "code",
   "execution_count": 66,
   "metadata": {
    "collapsed": true
   },
   "outputs": [],
   "source": [
    "class PoissonRegression:\n",
    "    \"\"\"Poisson Regression.\n",
    "\n",
    "    Example usage:\n",
    "        > clf = PoissonRegression(step_size=lr)\n",
    "        > clf.fit(x_train, y_train)\n",
    "        > clf.predict(x_eval)\n",
    "    \"\"\"\n",
    "\n",
    "    def __init__(self, step_size=1e-5, max_iter=10000000, eps=1e-5,\n",
    "                 theta_0=None, verbose=True):\n",
    "        \"\"\"\n",
    "        Args:\n",
    "            step_size: Step size for iterative solvers only.\n",
    "            max_iter: Maximum number of iterations for the solver.\n",
    "            eps: Threshold for determining convergence.\n",
    "            theta_0: Initial guess for theta. If None, use the zero vector.\n",
    "            verbose: Print loss values during training.\n",
    "        \"\"\"\n",
    "        self.theta_0 = theta_0 \n",
    "        self.step_size = step_size\n",
    "        self.max_iter = max_iter\n",
    "        self.eps = eps\n",
    "        self.verbose = verbose\n",
    "\n",
    "        \n",
    "    def h_x(self, x, theta):\n",
    "        \"\"\"Return h_theta(x) for Poisson Regression (the canonical response function)\"\"\"\n",
    "        return np.power(np.e, x @ theta)\n",
    "        \n",
    "    def normalise(self, x):\n",
    "        x[:, 3] = (x[:, 3] - np.mean(x[:, 3]))/np.std(x[:, 3])\n",
    "        x[:, 4] = (x[:, 4] - np.mean(x[:, 4]))/np.std(x[:, 4])\n",
    "        return x\n",
    "    \n",
    "    def fit(self, x, y):\n",
    "        \"\"\"Run gradient ascent to maximize likelihood for Poisson regression.\n",
    "\n",
    "        Args:\n",
    "            x: Training example inputs. Shape (n_examples, dim).\n",
    "            y: Training example labels. Shape (n_examples,).\n",
    "        \"\"\"\n",
    "        # *** START CODE HERE ***\n",
    "        y = y.reshape((-1, 1))\n",
    "#         x = self.normalise(x)\n",
    "        self.theta = self.theta_0 if self.theta_0 is not None else np.zeros((x.shape[1], 1))\n",
    "        \n",
    "        prev_theta = self.theta\n",
    "        for iter in range(self.max_iter):\n",
    "            theta_update = self.step_size*((y-self.h_x(x, self.theta)).T @ x)\n",
    "            self.theta = self.theta + theta_update.T\n",
    "            delta_theta = self.theta - prev_theta\n",
    "            norm = np.sqrt(np.sum(np.power(delta_theta, 2)))\n",
    "            if norm < self.eps:\n",
    "                break\n",
    "            prev_theta = self.theta\n",
    "        # *** END CODE HERE ***\n",
    "\n",
    "    def predict(self, x):\n",
    "        \"\"\"Make a prediction given inputs x.\n",
    "\n",
    "        Args:\n",
    "            x: Inputs of shape (n_examples, dim).\n",
    "\n",
    "        Returns:\n",
    "            Floating-point prediction for each input, shape (n_examples,).\n",
    "        \"\"\"\n",
    "        # *** START CODE HERE ***\n",
    "#         x = self.normalise(x)\n",
    "        return self.h_x(x, self.theta)\n",
    "        # *** END CODE HERE ***\n",
    "\n",
    "# if __name__ == '__main__':\n",
    "#     main(lr=1e-5,\n",
    "#         train_path='train.csv',\n",
    "#         eval_path='valid.csv',\n",
    "#         save_path='poisson_pred.txt')\n"
   ]
  },
  {
   "cell_type": "code",
   "execution_count": 90,
   "metadata": {},
   "outputs": [],
   "source": [
    "def main(lr, train_path, eval_path, save_path):\n",
    "    \"\"\"Problem: Poisson regression with gradient ascent.\n",
    "\n",
    "    Args:\n",
    "        lr: Learning rate for gradient ascent.\n",
    "        train_path: Path to CSV file containing dataset for training.\n",
    "        eval_path: Path to CSV file containing dataset for evaluation.\n",
    "        save_path: Path to save predictions.\n",
    "    \"\"\"\n",
    "    # Load training set\n",
    "    x_train, y_train = util.load_dataset(train_path, add_intercept=True)\n",
    "    # *** START CODE HERE ***\n",
    "    # Fit a Poisson Regression model\n",
    "    poisson_model = PoissonRegression()\n",
    "    poisson_model.fit(x_train, y_train)\n",
    "    # Run on the validation set, and use np.savetxt to save outputs to save_path\n",
    "    x_valid, y_valid = util.load_dataset(eval_path, add_intercept=True)\n",
    "    y_valid_pred = poisson_model.predict(x_valid)\n",
    "    np.savetxt(save_path, y_valid_pred)\n",
    "    \n",
    "    plt.figure()\n",
    "    plt.plot(np.linspace(0, 26, len(y_valid)), np.linspace(0, 26, len(y_valid)), color='r', label='y = x')\n",
    "    plt.scatter(y_valid, y_valid_pred, label='true vs. predicted')\n",
    "    plt.legend()\n",
    "    plt.xlabel('true y values')\n",
    "    plt.ylabel('predicted y values')\n",
    "    plt.savefig('true_vs_predicted_valid.jpg')\n",
    "    plt.show()\n",
    "    # *** END CODE HERE ***"
   ]
  },
  {
   "cell_type": "code",
   "execution_count": 91,
   "metadata": {},
   "outputs": [
    {
     "data": {
      "image/png": "[encoded data removed]",
      "text/plain": [
       "<matplotlib.figure.Figure at 0x11205d588>"
      ]
     },
     "metadata": {},
     "output_type": "display_data"
    }
   ],
   "source": [
    "main(lr=1e-5,\n",
    "     train_path='train.csv',\n",
    "     eval_path='valid.csv',\n",
    "     save_path='poisson_pred.txt')"
   ]
  },
  {
   "cell_type": "code",
   "execution_count": null,
   "metadata": {
    "collapsed": true
   },
   "outputs": [],
   "source": []
  }
 ],
 "metadata": {
  "kernelspec": {
   "display_name": "Python 3",
   "language": "python",
   "name": "python3"
  },
  "language_info": {
   "codemirror_mode": {
    "name": "ipython",
    "version": 3
   },
   "file_extension": ".py",
   "mimetype": "text/x-python",
   "name": "python",
   "nbconvert_exporter": "python",
   "pygments_lexer": "ipython3",
   "version": "3.6.6"
  }
 },
 "nbformat": 4,
 "nbformat_minor": 4
}
