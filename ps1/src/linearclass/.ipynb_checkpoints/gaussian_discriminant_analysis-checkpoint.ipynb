{
 "cells": [
  {
   "cell_type": "code",
   "execution_count": 1,
   "metadata": {},
   "outputs": [],
   "source": [
    "import numpy as np\n",
    "import util"
   ]
  },
  {
   "cell_type": "code",
   "execution_count": 2,
   "metadata": {},
   "outputs": [],
   "source": [
    "def sigmoid(z):\n",
    "    return 1/(1 + np.power(np.e,-z))"
   ]
  },
  {
   "cell_type": "code",
   "execution_count": 3,
   "metadata": {},
   "outputs": [],
   "source": [
    "class GDA:\n",
    "    \"\"\"Gaussian Discriminant Analysis.\n",
    "\n",
    "    Example usage:\n",
    "        > clf = GDA()\n",
    "        > clf.fit(x_train, y_train)\n",
    "        > clf.predict(x_eval)\n",
    "    \"\"\"\n",
    "    def __init__(self, step_size=0.01, max_iter=10000, eps=1e-5,\n",
    "                 theta_0=None, verbose=True):\n",
    "        \"\"\"\n",
    "        Args:\n",
    "            step_size: Step size for iterative solvers only.\n",
    "            max_iter: Maximum number of iterations for the solver.\n",
    "            eps: Threshold for determining convergence.\n",
    "            theta_0: Initial guess for theta. If None, use the zero vector.\n",
    "            verbose: Print loss values during training.\n",
    "        \"\"\"\n",
    "        self.theta = theta_0\n",
    "        self.step_size = step_size\n",
    "        self.max_iter = max_iter\n",
    "        self.eps = eps\n",
    "        self.verbose = verbose\n",
    "\n",
    "    def fit(self, x, y):\n",
    "        \"\"\"Fit a GDA model to training set given by x and y by updating\n",
    "        self.theta.\n",
    "\n",
    "        Args:\n",
    "            x: Training example inputs. Shape (n_examples, dim).\n",
    "            y: Training example labels. Shape (n_examples,).\n",
    "        \"\"\"\n",
    "        # *** START CODE HERE ***\n",
    "        n = x.shape[0]\n",
    "        m = x.shape[1]\n",
    "        x = x.reshape((n, m))\n",
    "        y = y.reshape((n, 1))\n",
    "        \n",
    "        # Find phi, mu_0, mu_1, and sigma\n",
    "        phi = np.sum(y)/n\n",
    "        mu_0 = np.sum((1-y)*x, axis=0)/np.sum(1-y)\n",
    "        mu_1 = np.sum(y*x, axis=0)/np.sum(y)\n",
    "        sigma = np.zeros((m,m))\n",
    "        for i in range(n):\n",
    "            vec = (x[i] - y[i]*mu_1 - (1-y[i])*mu_0).reshape(2,1)\n",
    "            sigma_i = vec @ vec.T\n",
    "            sigma += (1/n)*sigma_i\n",
    "        sigma_inv = np.linalg.inv(sigma)\n",
    "        \n",
    "        # Write theta in terms of the parameters\n",
    "        self.theta = sigma_inv @ (mu_1 - mu_0)\n",
    "        self.theta_0 = 0.5*(mu_0-mu_1)@sigma_inv@(mu_1 + mu_0) + np.log(phi/(1-phi))\n",
    "        \n",
    "        # *** END CODE HERE ***\n",
    "\n",
    "    def predict(self, x):\n",
    "        \"\"\"Make a prediction given new inputs x.\n",
    "\n",
    "        Args:\n",
    "            x: Inputs of shape (n_examples, dim).\n",
    "\n",
    "        Returns:\n",
    "            Outputs of shape (n_examples,).\n",
    "        \"\"\"\n",
    "        return sigmoid(x@self.theta + self.theta_0)\n",
    "\n",
    "# if __name__ == '__main__':\n",
    "#     main(train_path='ds1_train.csv',\n",
    "#          valid_path='ds1_valid.csv',\n",
    "#          save_path='gda_pred_1.txt')\n",
    "\n",
    "#     main(train_path='ds2_train.csv',\n",
    "#          valid_path='ds2_valid.csv',\n",
    "#          save_path='gda_pred_2.txt')\n"
   ]
  },
  {
   "cell_type": "code",
   "execution_count": 24,
   "metadata": {},
   "outputs": [],
   "source": [
    "def main(train_path, valid_path, save_path):\n",
    "    \"\"\"Problem: Gaussian discriminant analysis (GDA)\n",
    "\n",
    "    Args:\n",
    "        train_path: Path to CSV file containing dataset for training.\n",
    "        valid_path: Path to CSV file containing dataset for validation.\n",
    "        save_path: Path to save predicted probabilities using np.savetxt().\n",
    "    \"\"\"\n",
    "    # Load dataset\n",
    "    x_train, y_train = util.load_dataset(train_path, add_intercept=False)\n",
    "    x_valid, y_valid = util.load_dataset(valid_path, add_intercept=True)\n",
    "\n",
    "    x_train[:, 1] = np.log(x_train[:, 1])\n",
    "    x_valid[:, 2] = np.log(x_valid[:,2])\n",
    "    \n",
    "    # *** START CODE HERE ***\n",
    "    # Train a GDA classifier\n",
    "    gda = GDA()\n",
    "    gda.fit(x_train, y_train)\n",
    "    \n",
    "    # Predict for validation\n",
    "#     y_pred_valid = gda.predict(x_valid)\n",
    "    \n",
    "    # Plot decision boundary on validation set\n",
    "    theta = np.append(gda.theta_0, gda.theta)\n",
    "    util.plot(x_valid, y_valid, theta, save_path=None)\n",
    "    # Use np.savetxt to save outputs from validation set to save_path\n",
    "    # *** END CODE HERE ***"
   ]
  },
  {
   "cell_type": "code",
   "execution_count": 25,
   "metadata": {},
   "outputs": [
    {
     "data": {
      "image/png": "[encoded data removed]",
      "text/plain": [
       "<Figure size 432x288 with 1 Axes>"
      ]
     },
     "metadata": {
      "needs_background": "light"
     },
     "output_type": "display_data"
    }
   ],
   "source": [
    "main(train_path='ds1_train.csv',\n",
    "     valid_path='ds1_valid.csv',\n",
    "     save_path='gda_pred_1.txt')\n",
    "\n",
    "# main(train_path='ds2_train.csv',\n",
    "#      valid_path='ds2_valid.csv',\n",
    "#      save_path='gda_pred_2.txt')"
   ]
  }
 ],
 "metadata": {
  "kernelspec": {
   "display_name": "Python 3",
   "language": "python",
   "name": "python3"
  },
  "language_info": {
   "codemirror_mode": {
    "name": "ipython",
    "version": 3
   },
   "file_extension": ".py",
   "mimetype": "text/x-python",
   "name": "python",
   "nbconvert_exporter": "python",
   "pygments_lexer": "ipython3",
   "version": "3.6.6"
  }
 },
 "nbformat": 4,
 "nbformat_minor": 4
}
