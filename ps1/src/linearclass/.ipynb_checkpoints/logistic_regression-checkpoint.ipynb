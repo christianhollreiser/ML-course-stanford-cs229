{
 "cells": [
  {
   "cell_type": "markdown",
   "metadata": {},
   "source": [
    "# CS229 Problem Set Instructions\n",
    "\n",
    "\n",
    "## Setup for Written Parts\n",
    "\n",
    "1. We have provided a LaTeX template in the `tex/` directory to make it easy to typeset your homework solutions.\n",
    "2. Every problem has its own directory (*e.g.,* `tex/featuremaps/` for Problem 1).\n",
    "3. Every subproblem has two files within the parent problem’s directory:\n",
    "  - The problem statement, *e.g.* `tex/featuremaps/01-degree-3-math.tex` for Problem 1(a)). You do not need to modify this.\n",
    "  - Your solution, *e.g.* `tex/featuremaps/01-degree-3-math-sol.tex` for your solution to Problem 1(a). You will need to modify these files (and the source files in `src` for coding parts).\n",
    "4. You can use the given `Makefile` to typeset your solution, or use an editor with built-in typesetting such as TeXShop (comes free with the standard [LaTeX distribution](https://www.latex-project.org/get/)) or [Texpad](https://www.texpad.com/) (separate download, not free).\n",
    "\n",
    "\n",
    "## Setup for Coding Parts\n",
    "\n",
    "1. Install [Miniconda](https://docs.conda.io/en/latest/miniconda.html)\n",
    "  - Conda is a package manager that sandboxes your project’s dependencies in a virtual environment\n",
    "  - Miniconda contains Conda and its dependencies with no extra packages by default (as opposed to Anaconda, which installs some extra packages)\n",
    "2. Extract the zip file and run `conda env create -f environment.yml` from inside the extracted directory.\n",
    "  - This creates a Conda environment called `cs229`\n",
    "3. Run `source activate cs229`\n",
    "  - This activates the `cs229` environment\n",
    "  - Do this each time you want to write/test your code\n",
    "4. (Optional) If you use PyCharm:\n",
    "  - Open the `src` directory in PyCharm\n",
    "  - Go to `PyCharm` > `Preferences` > `Project` > `Project interpreter`\n",
    "  - Click the gear in the top-right corner, then `Add`\n",
    "  - Select `Conda environment` > `Existing environment` > Button on the right with `…`\n",
    "  - Select `/Users/YOUR_USERNAME/miniconda3/envs/cs229/bin/python`\n",
    "  - Select `OK` then `Apply`\n",
    "5. Notice some coding problems come with `util.py` file. In it you have access to methods that do the following tasks:\n",
    "  - Load a dataset in the CSV format provided in the problem\n",
    "  - Add an intercept to a dataset (*i.e.,* add a new column of 1s to the design matrix)\n",
    "  - Plot a dataset and a linear decision boundary. Some plots might require modified plotting code, but you can use this as a starting point.\n",
    "7. Notice that start codes are provided in each problem directory (e.g. `gda.py`, `posonly.py`)\n",
    "  - Within each starter file, there are highlighted regions of the code with the comments ** START CODE HERE ** and ** END CODE HERE **. You are strongly suggested to make your changes only within this region. You can add helper functions within this region as well.\n",
    "8. Once you are done with all the code changes, run `make_zip.py` to create a `submission.zip`.\n",
    "  - You must upload this `submission.zip` to Gradescope.\n"
   ]
  },
  {
   "cell_type": "markdown",
   "metadata": {},
   "source": [
    "# Logistic Regression with Newtons Method"
   ]
  },
  {
   "cell_type": "code",
   "execution_count": 1,
   "metadata": {},
   "outputs": [],
   "source": [
    "import numpy as np\n",
    "import util\n",
    "from functools import partial"
   ]
  },
  {
   "cell_type": "markdown",
   "metadata": {},
   "source": [
    "### Model"
   ]
  },
  {
   "cell_type": "code",
   "execution_count": 2,
   "metadata": {},
   "outputs": [],
   "source": [
    "def sigmoid(z):\n",
    "    return 1/(1 + np.power(np.e,-z))\n",
    "\n",
    "class LogisticRegression:\n",
    "    \"\"\"Logistic regression with Newton's Method as the solver.\n",
    "\n",
    "    Example usage:\n",
    "        > clf = LogisticRegression()\n",
    "        > clf.fit(x_train, y_train)\n",
    "        > clf.predict(x_eval)\n",
    "    \"\"\"\n",
    "    def __init__(self, step_size=0.01, max_iter=1000000, eps=1e-5,\n",
    "                 theta_0=None, verbose=True):\n",
    "        \"\"\"\n",
    "        Args:\n",
    "            step_size: Step size for iterative solvers only.\n",
    "            max_iter: Maximum number of iterations for the solver.\n",
    "            eps: Threshold for determining convergence.\n",
    "            theta_0: Initial guess for theta. If None, use the zero vector.\n",
    "            verbose: Print loss values during training.\n",
    "        \"\"\"\n",
    "        self.theta_0 = theta_0\n",
    "        self.step_size = step_size\n",
    "        self.max_iter = max_iter\n",
    "        self.eps = eps\n",
    "        self.verbose = verbose\n",
    "        self.theta = theta_0\n",
    "    \n",
    "    def h_x(self, theta, x):\n",
    "        return sigmoid(x@theta)\n",
    "    \n",
    "    def gradient_empirical_loss(self, theta, x, y):\n",
    "        # gradient of the negative averaged log likelihood\n",
    "        h_x = self.h_x(theta, x)\n",
    "        return -1*np.mean((y - h_x)*x, axis=0)\n",
    "    \n",
    "    def hessian_empirical_loss(self, theta, x, y):\n",
    "        m = len(theta)\n",
    "        h_x = self.h_x(theta, x)\n",
    "        hessian = np.zeros((m, m))\n",
    "        for i in range(m):\n",
    "            for j in range(m):\n",
    "                hessian[i, j] = np.mean(h_x*(1-h_x)*x[:,i:i+1]*x[:,j:j+1], axis=0)\n",
    "        \n",
    "        return hessian\n",
    "                \n",
    "    def fit(self, x, y):\n",
    "        \"\"\"Run Newton's Method to minimize J(theta) for logistic regression.\n",
    "\n",
    "        Args:\n",
    "            x: Training example inputs. Shape (n_examples, dim).\n",
    "            y: Training example labels. Shape (n_examples,).\n",
    "        \"\"\"\n",
    "        # *** START CODE HERE ***\n",
    "        y = y.reshape((-1,1))\n",
    "        m = x.shape[1]\n",
    "        if self.theta_0 is None:\n",
    "            self.theta = np.zeros((x.shape[1], 1))\n",
    "            \n",
    "        grad_J_theta = partial(self.gradient_empirical_loss, x=x, y=y)\n",
    "        \n",
    "        hessian_J_theta = partial(self.hessian_empirical_loss, x=x, y=y)\n",
    "        \n",
    "        prev_theta = self.theta + 2*self.eps \n",
    "        thetas = [self.theta]\n",
    "        for step in range(self.max_iter):\n",
    "            if np.sum(np.abs(self.theta-prev_theta)) <= self.eps:\n",
    "                break\n",
    "            prev_theta = self.theta\n",
    "            quotient = (np.linalg.inv(hessian_J_theta(self.theta)) @ grad_J_theta(self.theta)).reshape((m, 1))\n",
    "            self.theta = self.theta - self.step_size*quotient \n",
    "            thetas.append(self.theta)\n",
    "        return thetas\n",
    "        # *** END CODE HERE ***\n",
    "\n",
    "    def predict(self, x):\n",
    "        \"\"\"Return predicted probabilities given new inputs x.\n",
    "\n",
    "        Args:\n",
    "            x: Inputs of shape (n_examples, dim).\n",
    "\n",
    "        Returns:\n",
    "            Outputs of shape (n_examples,).\n",
    "        \"\"\"\n",
    "        # *** START CODE HERE ***\n",
    "        return self.h_x(self.theta, x)\n",
    "        # *** END CODE HERE ***\n",
    "\n",
    "# if __name__ == '__main__':\n",
    "#     main(train_path='ds1_train.csv',\n",
    "#          valid_path='ds1_valid.csv',\n",
    "#          save_path='logreg_pred_1.txt')\n",
    "\n",
    "#     main(train_path='ds2_train.csv',\n",
    "#          valid_path='ds2_valid.csv',\n",
    "#          save_path='logreg_pred_2.txt')\n"
   ]
  },
  {
   "cell_type": "code",
   "execution_count": 3,
   "metadata": {},
   "outputs": [],
   "source": [
    "def main(train_path, valid_path, save_path):\n",
    "    \"\"\"Problem: Logistic regression with Newton's Method.\n",
    "\n",
    "    Args:\n",
    "        train_path: Path to CSV file containing dataset for training.\n",
    "        valid_path: Path to CSV file containing dataset for validation.\n",
    "        save_path: Path to save predicted probabilities using np.savetxt().\n",
    "    \"\"\"\n",
    "    x_train, y_train = util.load_dataset(train_path, add_intercept=True)\n",
    "    x_valid, y_valid = util.load_dataset(valid_path, add_intercept=True)\n",
    "\n",
    "    m = x_train.shape[1]\n",
    "    \n",
    "    # *** START CODE HERE ***\n",
    "    # Train a logistic regression classifier\n",
    "    lr = LogisticRegression()\n",
    "    thetas = lr.fit(x_train, y_train)\n",
    "    # Plot decision boundary on top of validation set set\n",
    "    util.plot(x_valid, y_valid.reshape(-1), thetas[-1], save_path=None)\n",
    "    # Use np.savetxt to save predictions on eval set to save_path\n",
    "    # *** END CODE HERE ***\n"
   ]
  },
  {
   "cell_type": "code",
   "execution_count": 4,
   "metadata": {
    "scrolled": false
   },
   "outputs": [
    {
     "data": {
      "image/png": "[encoded data removed]",
      "text/plain": [
       "<Figure size 432x288 with 1 Axes>"
      ]
     },
     "metadata": {
      "needs_background": "light"
     },
     "output_type": "display_data"
    },
    {
     "data": {
      "image/png": "[encoded data removed]",
      "text/plain": [
       "<Figure size 432x288 with 1 Axes>"
      ]
     },
     "metadata": {
      "needs_background": "light"
     },
     "output_type": "display_data"
    }
   ],
   "source": [
    "main(train_path='ds1_train.csv',\n",
    "         valid_path='ds1_valid.csv',\n",
    "         save_path='logreg_pred_1.txt')\n",
    "\n",
    "main(train_path='ds2_train.csv',\n",
    "     valid_path='ds2_valid.csv',\n",
    "     save_path='logreg_pred_2.txt')"
   ]
  },
  {
   "cell_type": "code",
   "execution_count": 5,
   "metadata": {},
   "outputs": [],
   "source": [
    "import matplotlib\n",
    "import matplotlib.pyplot as plt"
   ]
  },
  {
   "cell_type": "code",
   "execution_count": 6,
   "metadata": {},
   "outputs": [],
   "source": [
    "train_path = 'ds1_train.csv'\n",
    "x_train, y_train = util.load_dataset(train_path, add_intercept=True)"
   ]
  },
  {
   "cell_type": "code",
   "execution_count": 7,
   "metadata": {},
   "outputs": [],
   "source": [
    "x_train_0 = x_train[y_train == 0]"
   ]
  },
  {
   "cell_type": "code",
   "execution_count": 8,
   "metadata": {},
   "outputs": [
    {
     "data": {
      "text/plain": [
       "(array([ 2.,  5., 21., 47., 64., 75., 94., 61., 20., 11.]),\n",
       " array([-2.60676589, -2.06600854, -1.52525119, -0.98449385, -0.4437365 ,\n",
       "         0.09702085,  0.63777819,  1.17853554,  1.71929289,  2.26005023,\n",
       "         2.80080758]),\n",
       " <a list of 10 Patch objects>)"
      ]
     },
     "execution_count": 8,
     "metadata": {},
     "output_type": "execute_result"
    },
    {
     "data": {
      "image/png": "[encoded data removed]",
      "text/plain": [
       "<Figure size 432x288 with 1 Axes>"
      ]
     },
     "metadata": {
      "needs_background": "light"
     },
     "output_type": "display_data"
    }
   ],
   "source": [
    "plt.hist(np.log(x_train_0[:,2]))"
   ]
  },
  {
   "cell_type": "code",
   "execution_count": 9,
   "metadata": {},
   "outputs": [],
   "source": [
    "import scipy as scp\n",
    "from scipy import stats"
   ]
  }
 ],
 "metadata": {
  "kernelspec": {
   "display_name": "Python 3",
   "language": "python",
   "name": "python3"
  },
  "language_info": {
   "codemirror_mode": {
    "name": "ipython",
    "version": 3
   },
   "file_extension": ".py",
   "mimetype": "text/x-python",
   "name": "python",
   "nbconvert_exporter": "python",
   "pygments_lexer": "ipython3",
   "version": "3.6.6"
  }
 },
 "nbformat": 4,
 "nbformat_minor": 4
}
